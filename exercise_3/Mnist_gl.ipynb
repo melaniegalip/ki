{
 "cells": [
  {
   "cell_type": "markdown",
   "id": "e6f0cff7-5791-4008-92ee-68ea51773f52",
   "metadata": {},
   "source": [
    "# Transfer learning\n",
    "\n",
    "Das Ziel des Transferlearning ist es, ein bereits trainiertes Modell auf eine andere Aufgabe zu trainieren. Die Idee dahinter ist den Teil des Netzwerks, der für die Extraktion von Merkmalen zuständig ist, zu \"recyceln\". Da dies in der Regel der teuerste Teil des Trainings ist, spart man sich dadurch eine Menge an Zeit. Das bedeutet, dass dieser Teil nicht neu trainiert werden muss, sondern die bereits trainierte Featurextraktion genauso gut für eine ähnliche Aufgabe verwendet werden kann. Aus diesem Grund sollte man ein bereits trainiertes Netzwerk nutzen, welches für eine ähnliche Aufgabe trainiert wurde. Lediglich die Klassifikationsschicht wird neu trainiert. Ziel dieses Notebooks ist es, ein Verständnis zu bekommen, was beim Transferlearning passiert.\n",
    "\n",
    "Schauen Sie sich folgendes Notebook an und versuchen Sie den groben Ablauf zu verstehen.\n",
    "Sie werden die meisten Befehle die Sie benötigen darin finden.\n",
    "https://www.tensorflow.org/tutorials/images/transfer_learning\n",
    "\n",
    "Für diese Aufgabe wollen wir das in der letzten Aufgabe trainierte Convolutional Neural Network, welches auf dem Mnist Datensatz trainiert wurde, auf eine andere Aufgabe trainieren. Die Aufgabe des Netzwerks soll es sein, zu entscheiden, ob eine Zahl größer oder kleiner als eine fixe Zahl ist.\n",
    "\n",
    "Gehen Sie dazu wie folgt vor:\n",
    "\n",
    "    * Laden Sie ihr Modell aus der vorherigen Aufgabe mit tf.keras.models.load_model(\"Name des Modells\") Falls Sie ihr Modell nicht gespeichert hatten, können Sie dies mit model.save(\"Name des Modells\"), nachdem Sie erneut trainiert haben, tun.\n",
    "      \n",
    "    * Bereiten Sie den Mnist-Datensatz wie in der vorherigen Aufgabe vor, und verändern Sie die Labels so, dass nur zwei Klassen existieren, >= 5 und <= 5\n",
    "      \n",
    "    * Laden Sie das zuvor gespeicherte Modell und entfernen Sie die letzte Schicht ( model.pop() )\n",
    "    \n",
    "    * Setzen Sie die Layer auf nicht trainierbar\n",
    "    \n",
    "    * Fügen Sie eine neue Schicht hinzu\n",
    "    \n",
    "    * Trainieren Sie das Netzwerk mit den transformierten Labels\n",
    "    \n",
    "    * Plotten Sie wieder die Trainingskurven und erstellen sie eine confusion Matrix"
   ]
  },
  {
   "cell_type": "code",
   "execution_count": 1,
   "id": "099b0031-b03b-48e7-96aa-97f0c491a06d",
   "metadata": {},
   "outputs": [
    {
     "name": "stdout",
     "output_type": "stream",
     "text": [
      "INFO:tensorflow:Enabling eager execution\n",
      "INFO:tensorflow:Enabling v2 tensorshape\n",
      "INFO:tensorflow:Enabling resource variables\n",
      "INFO:tensorflow:Enabling tensor equality\n",
      "INFO:tensorflow:Enabling control flow v2\n"
     ]
    }
   ],
   "source": [
    "import matplotlib.pyplot as plt\n",
    "import numpy as np\n",
    "import os\n",
    "import tensorflow as tf\n",
    "from sklearn.metrics import confusion_matrix\n"
   ]
  },
  {
   "cell_type": "code",
   "execution_count": 2,
   "id": "28c85969-93c8-4ec0-aeaf-91f4c8eb2582",
   "metadata": {},
   "outputs": [],
   "source": [
    "# Vorbereiten von Mnist\n",
    "\n"
   ]
  },
  {
   "cell_type": "code",
   "execution_count": 3,
   "id": "6e3338d3-70b7-4b77-805b-cd390ca30694",
   "metadata": {},
   "outputs": [
    {
     "name": "stdout",
     "output_type": "stream",
     "text": [
      "original shape    : (50000, 10)\n",
      "transformed shape : (50000, 2)\n"
     ]
    }
   ],
   "source": [
    "\n",
    "def relable(labels,threshold=5):\n",
    "    \n",
    "    relabled = []\n",
    "    \n",
    "    # Hier die transformation der Labels vornehmen\n",
    "    # Zahl >= Threshold => [0,1] else: [1,0]\n",
    "    \n",
    "    return np.array(relabled,dtype=np.float32)\n",
    "\n",
    "Y_train_relabled = relable(Y_train)\n",
    "Y_test_relabled = relable(Y_test)\n",
    "print(\"original shape    :\",Y_train.shape)\n",
    "print(\"transformed shape :\",Y_train_relabled.shape)\n"
   ]
  },
  {
   "cell_type": "code",
   "execution_count": 4,
   "id": "5cda1cfa-672f-4dff-93f8-c3d67c76957b",
   "metadata": {},
   "outputs": [
    {
     "name": "stdout",
     "output_type": "stream",
     "text": [
      "Model: \"sequential_1\"\n",
      "_________________________________________________________________\n",
      "Layer (type)                 Output Shape              Param #   \n",
      "=================================================================\n",
      "conv2d (Conv2D)              (None, 26, 26, 32)        320       \n",
      "_________________________________________________________________\n",
      "max_pooling2d (MaxPooling2D) (None, 13, 13, 32)        0         \n",
      "_________________________________________________________________\n",
      "conv2d_1 (Conv2D)            (None, 11, 11, 64)        18496     \n",
      "_________________________________________________________________\n",
      "max_pooling2d_1 (MaxPooling2 (None, 5, 5, 64)          0         \n",
      "_________________________________________________________________\n",
      "flatten (Flatten)            (None, 1600)              0         \n",
      "=================================================================\n",
      "Total params: 18,816\n",
      "Trainable params: 18,816\n",
      "Non-trainable params: 0\n",
      "_________________________________________________________________\n"
     ]
    }
   ],
   "source": [
    "# Laden des Modells Modellnamen anpassen!\n",
    "base_model = tf.keras.models.load_model(\"Modelname\")\n",
    "\n",
    "#Hier die letzte Schicht entfernen\n",
    "\n",
    "base_model.summary()"
   ]
  },
  {
   "cell_type": "code",
   "execution_count": 5,
   "id": "371cb421-f1f2-47b6-90d6-4cf99b451618",
   "metadata": {},
   "outputs": [],
   "source": [
    "\n",
    "# Hier Modell einfrieren\n",
    "\n",
    "\n",
    "# Basismodell als Ausgangspunkt nehmen\n",
    "inputs = tf.keras.Input(shape=(28, 28,1))\n",
    "x = base_model(inputs, training=False)\n",
    "\n",
    "# Hier ein Dense-layer hinzufügen sodass zwei Klassen vorhergesagt werden!\n",
    "last_layer = ......(x)\n",
    "output     = tf.keras.layers.Activation('softmax')(last_layer)\n",
    "\n",
    "# Modell Zusammenfügen\n",
    "model = tf.keras.Model(inputs, output)"
   ]
  },
  {
   "cell_type": "code",
   "execution_count": 6,
   "id": "97ab7f72-f612-4e37-b1c5-064d7aa616a1",
   "metadata": {},
   "outputs": [
    {
     "name": "stdout",
     "output_type": "stream",
     "text": [
      "Model: \"model\"\n",
      "_________________________________________________________________\n",
      "Layer (type)                 Output Shape              Param #   \n",
      "=================================================================\n",
      "input_1 (InputLayer)         [(None, 28, 28, 1)]       0         \n",
      "_________________________________________________________________\n",
      "sequential_1 (Sequential)    (None, 1600)              18816     \n",
      "_________________________________________________________________\n",
      "dense (Dense)                (None, 2)                 3202      \n",
      "_________________________________________________________________\n",
      "activation (Activation)      (None, 2)                 0         \n",
      "=================================================================\n",
      "Total params: 22,018\n",
      "Trainable params: 3,202\n",
      "Non-trainable params: 18,816\n",
      "_________________________________________________________________\n"
     ]
    }
   ],
   "source": [
    "learning_rate = 1e-4\n",
    "# Modell Kompilieren, Kostenfunktion categorical_crossentropy, Optimizer Adam mit der learningrate 1e-4\n",
    "model.summary()"
   ]
  },
  {
   "cell_type": "code",
   "execution_count": 7,
   "id": "7cd190a8-57aa-4daa-bf69-b784f3e4d42f",
   "metadata": {},
   "outputs": [
    {
     "name": "stdout",
     "output_type": "stream",
     "text": [
      "313/313 [==============================] - 2s 1ms/step - loss: 1.5537 - accuracy: 0.3287\n"
     ]
    }
   ],
   "source": [
    "loss0, accuracy0 = model.evaluate(x = X_test,y = Y_test_relabled)"
   ]
  },
  {
   "cell_type": "code",
   "execution_count": null,
   "id": "147cbb77-6c15-4132-96ed-599f4d0567a1",
   "metadata": {},
   "outputs": [],
   "source": [
    "epochs = 10\n",
    "# Hier das Netzwerk trainieren!\n",
    "\n"
   ]
  },
  {
   "cell_type": "code",
   "execution_count": 10,
   "id": "ba3a3c41-4939-4e22-bca2-55f8283d6a03",
   "metadata": {},
   "outputs": [
    {
     "data": {
      "image/png": "[encoded data removed]",
      "text/plain": [
       "<Figure size 864x288 with 2 Axes>"
      ]
     },
     "metadata": {
      "needs_background": "light"
     },
     "output_type": "display_data"
    }
   ],
   "source": [
    "\n",
    "# Plotten Trainingskurve wie in der Aufgabe zuvor\n"
   ]
  },
  {
   "cell_type": "code",
   "execution_count": 20,
   "id": "e2d84b7c-984b-4de9-aa9c-6f13eca580d5",
   "metadata": {},
   "outputs": [],
   "source": [
    "# Confusion Matrix erstellen"
   ]
  }
 ],
 "metadata": {
  "kernelspec": {
   "display_name": "Python 3",
   "language": "python",
   "name": "python3"
  },
  "language_info": {
   "codemirror_mode": {
    "name": "ipython",
    "version": 3
   },
   "file_extension": ".py",
   "mimetype": "text/x-python",
   "name": "python",
   "nbconvert_exporter": "python",
   "pygments_lexer": "ipython3",
   "version": "3.9.4"
  }
 },
 "nbformat": 4,
 "nbformat_minor": 5
}
